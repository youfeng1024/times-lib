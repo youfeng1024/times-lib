{
 "cells": [
  {
   "cell_type": "code",
   "execution_count": 2,
   "metadata": {},
   "outputs": [],
   "source": [
    "import pandas as pd\n",
    "from statsmodels.tsa.api import VAR\n",
    "import torch\n",
    "from torch.utils.data import DataLoader\n",
    "from data_provider.data_loader import Dataset_Custom"
   ]
  },
  {
   "cell_type": "code",
   "execution_count": 5,
   "metadata": {},
   "outputs": [],
   "source": [
    "dataset = Dataset_Custom(args = None, root_path = 'dataset\\\\Iron', flag='test', size=(10, 0, 1),\n",
    "                 features='MS', data_path='Iron.csv',\n",
    "                 target='close', scale=True, timeenc=1, freq='h')"
   ]
  },
  {
   "cell_type": "code",
   "execution_count": 13,
   "metadata": {},
   "outputs": [],
   "source": [
    "test_loader = DataLoader(dataset, batch_size=len(dataset), shuffle=False)\n"
   ]
  },
  {
   "cell_type": "code",
   "execution_count": 15,
   "metadata": {},
   "outputs": [
    {
     "name": "stdout",
     "output_type": "stream",
     "text": [
      "torch.Size([530, 10, 7]) torch.Size([530, 1, 7])\n"
     ]
    }
   ],
   "source": [
    "for batch in test_loader:\n",
    "    seq_x, seq_y, _, _ = batch\n",
    "    seq_y[4]\n",
    "    print(seq_x.shape, seq_y.shape)"
   ]
  }
 ],
 "metadata": {
  "kernelspec": {
   "display_name": "base",
   "language": "python",
   "name": "python3"
  },
  "language_info": {
   "codemirror_mode": {
    "name": "ipython",
    "version": 3
   },
   "file_extension": ".py",
   "mimetype": "text/x-python",
   "name": "python",
   "nbconvert_exporter": "python",
   "pygments_lexer": "ipython3",
   "version": "3.11.8"
  }
 },
 "nbformat": 4,
 "nbformat_minor": 2
}
